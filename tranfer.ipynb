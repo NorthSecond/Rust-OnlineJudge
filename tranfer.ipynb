{
 "cells": [
  {
   "cell_type": "code",
   "execution_count": null,
   "metadata": {},
   "outputs": [],
   "source": []
  }
 ],
 "metadata": {
  "kernelspec": {
   "display_name": "base",
   "language": "python",
   "name": "python3"
  },
  "language_info": {
   "name": "python",
   "version": "3.9.15 (main, Nov  4 2022, 16:35:55) [MSC v.1916 64 bit (AMD64)]"
  },
  "orig_nbformat": 4,
  "vscode": {
   "interpreter": {
    "hash": "e222473ea69b74477519f39f0807b9927eeca2c9bb1f445796716c973708718e"
   }
  }
 },
 "nbformat": 4,
 "nbformat_minor": 2
}
